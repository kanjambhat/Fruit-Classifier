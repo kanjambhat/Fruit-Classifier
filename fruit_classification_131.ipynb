{
 "cells": [
  {
   "cell_type": "code",
   "execution_count": 32,
   "metadata": {},
   "outputs": [],
   "source": [
    "import keras\n",
    "from keras.models import Sequential\n",
    "from keras.layers import Convolution2D\n",
    "from keras.layers import Flatten\n",
    "from keras.layers import Dense\n",
    "from keras.layers import MaxPooling2D"
   ]
  },
  {
   "cell_type": "code",
   "execution_count": 33,
   "metadata": {},
   "outputs": [],
   "source": [
    "classifier=Sequential()"
   ]
  },
  {
   "cell_type": "code",
   "execution_count": 34,
   "metadata": {},
   "outputs": [],
   "source": [
    "classifier.add(Convolution2D(32,(3,3),input_shape=(64,64,3),activation='relu'))\n",
    "\n",
    "classifier.add(MaxPooling2D(pool_size=(2,2)))\n",
    "\n"
   ]
  },
  {
   "cell_type": "code",
   "execution_count": 35,
   "metadata": {},
   "outputs": [],
   "source": [
    "classifier.add(Convolution2D(32,(3,3),activation='relu'))\n",
    "classifier.add(MaxPooling2D(pool_size=(2,2)))"
   ]
  },
  {
   "cell_type": "code",
   "execution_count": 36,
   "metadata": {},
   "outputs": [],
   "source": [
    "classifier.add(Flatten())"
   ]
  },
  {
   "cell_type": "code",
   "execution_count": 37,
   "metadata": {},
   "outputs": [],
   "source": [
    "classifier.add(Dense(units=32,activation='relu'))\n",
    "classifier.add(Dense(units=64,activation='relu'))\n",
    "classifier.add(Dense(units=128,activation='relu'))\n",
    "classifier.add(Dense(units=256,activation='relu'))\n",
    "classifier.add(Dense(units=256,activation='relu'))\n",
    "classifier.add(Dense(units=6,activation='softmax'))"
   ]
  },
  {
   "cell_type": "code",
   "execution_count": 38,
   "metadata": {},
   "outputs": [],
   "source": [
    "classifier.compile(optimizer='adam',loss='categorical_crossentropy',metrics=['accuracy'])"
   ]
  },
  {
   "cell_type": "code",
   "execution_count": 39,
   "metadata": {},
   "outputs": [],
   "source": [
    "from keras.preprocessing.image import ImageDataGenerator\n",
    "train_datagen=ImageDataGenerator(rescale=1./255,\n",
    "                                 shear_range=0.2,\n",
    "                                 zoom_range=0.2,\n",
    "                                 horizontal_flip=True)"
   ]
  },
  {
   "cell_type": "code",
   "execution_count": 40,
   "metadata": {},
   "outputs": [],
   "source": [
    "test_datagen=ImageDataGenerator(rescale=1./255)"
   ]
  },
  {
   "cell_type": "code",
   "execution_count": 41,
   "metadata": {},
   "outputs": [
    {
     "name": "stdout",
     "output_type": "stream",
     "text": [
      "Found 1212 images belonging to 6 classes.\n"
     ]
    }
   ],
   "source": [
    "training_set=train_datagen.flow_from_directory(r'C:\\fruit_classification_project\\Dataset\\train',\n",
    "                                               target_size=(64,64),\n",
    "                                               batch_size=12,\n",
    "                                               class_mode='categorical')\n",
    "\n"
   ]
  },
  {
   "cell_type": "code",
   "execution_count": 42,
   "metadata": {},
   "outputs": [
    {
     "name": "stdout",
     "output_type": "stream",
     "text": [
      "Found 300 images belonging to 6 classes.\n"
     ]
    }
   ],
   "source": [
    "test_set=test_datagen.flow_from_directory(r'C:\\fruit_classification_project\\Dataset\\test',\n",
    "                                               target_size=(64,64),\n",
    "                                               batch_size=12,\n",
    "                                               class_mode='categorical')"
   ]
  },
  {
   "cell_type": "code",
   "execution_count": 43,
   "metadata": {},
   "outputs": [
    {
     "name": "stderr",
     "output_type": "stream",
     "text": [
      "C:\\Users\\Kanjam Bhat Lidhoo\\Anaconda3\\lib\\site-packages\\ipykernel_launcher.py:5: UserWarning: The semantics of the Keras 2 argument `steps_per_epoch` is not the same as the Keras 1 argument `samples_per_epoch`. `steps_per_epoch` is the number of batches to draw from the generator at each epoch. Basically steps_per_epoch = samples_per_epoch/batch_size. Similarly `nb_val_samples`->`validation_steps` and `val_samples`->`steps` arguments have changed. Update your method calls accordingly.\n",
      "  \"\"\"\n",
      "C:\\Users\\Kanjam Bhat Lidhoo\\Anaconda3\\lib\\site-packages\\ipykernel_launcher.py:5: UserWarning: Update your `fit_generator` call to the Keras 2 API: `fit_generator(<keras.pre..., validation_data=<keras.pre..., steps_per_epoch=101, epochs=30, validation_steps=300)`\n",
      "  \"\"\"\n"
     ]
    },
    {
     "name": "stdout",
     "output_type": "stream",
     "text": [
      "Epoch 1/30\n",
      "101/101 [==============================] - 30s 297ms/step - loss: 1.5905 - accuracy: 0.3086 - val_loss: 1.4002 - val_accuracy: 0.4167\n",
      "Epoch 2/30\n",
      "101/101 [==============================] - 28s 274ms/step - loss: 1.1865 - accuracy: 0.5165 - val_loss: 0.7093 - val_accuracy: 0.6567\n",
      "Epoch 3/30\n",
      "101/101 [==============================] - 29s 284ms/step - loss: 0.9178 - accuracy: 0.6411 - val_loss: 1.3755 - val_accuracy: 0.7000\n",
      "Epoch 4/30\n",
      "101/101 [==============================] - 28s 277ms/step - loss: 0.7924 - accuracy: 0.6906 - val_loss: 0.8713 - val_accuracy: 0.6867\n",
      "Epoch 5/30\n",
      "101/101 [==============================] - 28s 273ms/step - loss: 0.7238 - accuracy: 0.7228 - val_loss: 0.4007 - val_accuracy: 0.8167\n",
      "Epoch 6/30\n",
      "101/101 [==============================] - 27s 268ms/step - loss: 0.5951 - accuracy: 0.7822 - val_loss: 0.5160 - val_accuracy: 0.7967\n",
      "Epoch 7/30\n",
      "101/101 [==============================] - 27s 272ms/step - loss: 0.5397 - accuracy: 0.8078 - val_loss: 0.4896 - val_accuracy: 0.8300\n",
      "Epoch 8/30\n",
      "101/101 [==============================] - 28s 278ms/step - loss: 0.4903 - accuracy: 0.8185 - val_loss: 0.7082 - val_accuracy: 0.8633\n",
      "Epoch 9/30\n",
      "101/101 [==============================] - 28s 276ms/step - loss: 0.4713 - accuracy: 0.8342 - val_loss: 0.4592 - val_accuracy: 0.8467\n",
      "Epoch 10/30\n",
      "101/101 [==============================] - 27s 265ms/step - loss: 0.4079 - accuracy: 0.8556 - val_loss: 0.3589 - val_accuracy: 0.8933\n",
      "Epoch 11/30\n",
      "101/101 [==============================] - 29s 289ms/step - loss: 0.3845 - accuracy: 0.8581 - val_loss: 0.3863 - val_accuracy: 0.8433\n",
      "Epoch 12/30\n",
      "101/101 [==============================] - 28s 273ms/step - loss: 0.3439 - accuracy: 0.8754 - val_loss: 0.4010 - val_accuracy: 0.8367\n",
      "Epoch 13/30\n",
      "101/101 [==============================] - 29s 284ms/step - loss: 0.4135 - accuracy: 0.8548 - val_loss: 0.1793 - val_accuracy: 0.9033\n",
      "Epoch 14/30\n",
      "101/101 [==============================] - 27s 263ms/step - loss: 0.3195 - accuracy: 0.8870 - val_loss: 0.1693 - val_accuracy: 0.8900\n",
      "Epoch 15/30\n",
      "101/101 [==============================] - 28s 276ms/step - loss: 0.3210 - accuracy: 0.8952 - val_loss: 0.5243 - val_accuracy: 0.8867\n",
      "Epoch 16/30\n",
      "101/101 [==============================] - 27s 266ms/step - loss: 0.2586 - accuracy: 0.9002 - val_loss: 0.0274 - val_accuracy: 0.8800\n",
      "Epoch 17/30\n",
      "101/101 [==============================] - 27s 271ms/step - loss: 0.3191 - accuracy: 0.8903 - val_loss: 0.2008 - val_accuracy: 0.8833\n",
      "Epoch 18/30\n",
      "101/101 [==============================] - 27s 270ms/step - loss: 0.3307 - accuracy: 0.8762 - val_loss: 0.0734 - val_accuracy: 0.9067\n",
      "Epoch 19/30\n",
      "101/101 [==============================] - 28s 273ms/step - loss: 0.2941 - accuracy: 0.9010 - val_loss: 0.2218 - val_accuracy: 0.8600\n",
      "Epoch 20/30\n",
      "101/101 [==============================] - 28s 275ms/step - loss: 0.2316 - accuracy: 0.9208 - val_loss: 0.0827 - val_accuracy: 0.8900\n",
      "Epoch 21/30\n",
      "101/101 [==============================] - 27s 265ms/step - loss: 0.2138 - accuracy: 0.9233 - val_loss: 0.3514 - val_accuracy: 0.8667\n",
      "Epoch 22/30\n",
      "101/101 [==============================] - 28s 274ms/step - loss: 0.2247 - accuracy: 0.9249 - val_loss: 0.2345 - val_accuracy: 0.8300\n",
      "Epoch 23/30\n",
      "101/101 [==============================] - 27s 269ms/step - loss: 0.2518 - accuracy: 0.9183 - val_loss: 0.7177 - val_accuracy: 0.8800\n",
      "Epoch 24/30\n",
      "101/101 [==============================] - 27s 271ms/step - loss: 0.2233 - accuracy: 0.9216 - val_loss: 0.0168 - val_accuracy: 0.8933\n",
      "Epoch 25/30\n",
      "101/101 [==============================] - 27s 269ms/step - loss: 0.2087 - accuracy: 0.9208 - val_loss: 0.0839 - val_accuracy: 0.9100\n",
      "Epoch 26/30\n",
      "101/101 [==============================] - 28s 273ms/step - loss: 0.2215 - accuracy: 0.9274 - val_loss: 0.1005 - val_accuracy: 0.8667\n",
      "Epoch 27/30\n",
      "101/101 [==============================] - 28s 275ms/step - loss: 0.2194 - accuracy: 0.9233 - val_loss: 0.4977 - val_accuracy: 0.9167\n",
      "Epoch 28/30\n",
      "101/101 [==============================] - 27s 266ms/step - loss: 0.1802 - accuracy: 0.9422 - val_loss: 0.4260 - val_accuracy: 0.9000\n",
      "Epoch 29/30\n",
      "101/101 [==============================] - 28s 279ms/step - loss: 0.2644 - accuracy: 0.9076 - val_loss: 0.6463 - val_accuracy: 0.8367\n",
      "Epoch 30/30\n",
      "101/101 [==============================] - 27s 271ms/step - loss: 0.2322 - accuracy: 0.9200 - val_loss: 0.3269 - val_accuracy: 0.8633\n"
     ]
    },
    {
     "data": {
      "text/plain": [
       "<keras.callbacks.callbacks.History at 0x1f250b03a20>"
      ]
     },
     "execution_count": 43,
     "metadata": {},
     "output_type": "execute_result"
    }
   ],
   "source": [
    "classifier.fit_generator(training_set,\n",
    "                         samples_per_epoch=1212,\n",
    "                         nb_epoch=30,\n",
    "                         validation_data=test_set,\n",
    "                         nb_val_samples=300)"
   ]
  },
  {
   "cell_type": "code",
   "execution_count": 44,
   "metadata": {},
   "outputs": [],
   "source": [
    "classifier.save('fruit_classification.h5')"
   ]
  },
  {
   "cell_type": "code",
   "execution_count": null,
   "metadata": {},
   "outputs": [],
   "source": []
  }
 ],
 "metadata": {
  "kernelspec": {
   "display_name": "Python 3",
   "language": "python",
   "name": "python3"
  },
  "language_info": {
   "codemirror_mode": {
    "name": "ipython",
    "version": 3
   },
   "file_extension": ".py",
   "mimetype": "text/x-python",
   "name": "python",
   "nbconvert_exporter": "python",
   "pygments_lexer": "ipython3",
   "version": "3.7.3"
  }
 },
 "nbformat": 4,
 "nbformat_minor": 2
}
